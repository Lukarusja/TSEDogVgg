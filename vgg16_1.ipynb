{
  "nbformat": 4,
  "nbformat_minor": 0,
  "metadata": {
    "colab": {
      "name": "vgg16_1.ipynb",
      "provenance": [],
      "collapsed_sections": [],
      "authorship_tag": "ABX9TyMZs8oy/TzdRMUFwyF62S82",
      "include_colab_link": true
    },
    "kernelspec": {
      "name": "python3",
      "display_name": "Python 3"
    },
    "accelerator": "GPU"
  },
  "cells": [
    {
      "cell_type": "markdown",
      "metadata": {
        "id": "view-in-github",
        "colab_type": "text"
      },
      "source": [
        "<a href=\"https://colab.research.google.com/github/Lukarusja/TSEDogVgg/blob/main/vgg16_1.ipynb\" target=\"_parent\"><img src=\"https://colab.research.google.com/assets/colab-badge.svg\" alt=\"Open In Colab\"/></a>"
      ]
    },
    {
      "cell_type": "code",
      "metadata": {
        "colab": {
          "base_uri": "https://localhost:8080/"
        },
        "id": "UkoZQsXpFj6P",
        "outputId": "71960962-32f5-411c-cea9-80602edefe00"
      },
      "source": [
        "from google.colab import drive\r\n",
        "drive.mount('/content/drive')"
      ],
      "execution_count": null,
      "outputs": [
        {
          "output_type": "stream",
          "text": [
            "Drive already mounted at /content/drive; to attempt to forcibly remount, call drive.mount(\"/content/drive\", force_remount=True).\n"
          ],
          "name": "stdout"
        }
      ]
    },
    {
      "cell_type": "code",
      "metadata": {
        "colab": {
          "base_uri": "https://localhost:8080/"
        },
        "id": "WiiABvWbF1Gu",
        "outputId": "97391ce0-4cc3-44e7-f899-f730a1a610ab"
      },
      "source": [
        "import pathlib\r\n",
        "\r\n",
        "data_dir = \"/content/drive/MyDrive/DogBreedSerious/extracted_dog_photos/train/\"\r\n",
        "data_dir = pathlib.Path(data_dir)\r\n",
        "image_count = len(list(data_dir.glob('*/*.jpg')))\r\n",
        "print(image_count)"
      ],
      "execution_count": null,
      "outputs": [
        {
          "output_type": "stream",
          "text": [
            "10222\n"
          ],
          "name": "stdout"
        }
      ]
    },
    {
      "cell_type": "code",
      "metadata": {
        "id": "5Qc_jSiTHFS_"
      },
      "source": [
        "import matplotlib.pyplot as plt\r\n",
        "import numpy as np\r\n",
        "import os\r\n",
        "import PIL\r\n",
        "import tensorflow as tf\r\n",
        "\r\n",
        "from tensorflow import keras\r\n",
        "from tensorflow.keras import layers\r\n",
        "from tensorflow.keras.models import Sequential"
      ],
      "execution_count": null,
      "outputs": []
    },
    {
      "cell_type": "code",
      "metadata": {
        "colab": {
          "base_uri": "https://localhost:8080/"
        },
        "id": "Hf9zl4QiF9IW",
        "outputId": "d042ce0b-5fe4-4d12-9c42-fb9dc848137b"
      },
      "source": [
        "from keras.preprocessing import image\r\n",
        "from keras.applications.vgg16 import VGG16\r\n",
        "\r\n",
        "vgg=VGG16(include_top=False,weights='imagenet',input_shape=(224,224,3))"
      ],
      "execution_count": null,
      "outputs": [
        {
          "output_type": "stream",
          "text": [
            "Downloading data from https://storage.googleapis.com/tensorflow/keras-applications/vgg16/vgg16_weights_tf_dim_ordering_tf_kernels_notop.h5\n",
            "58892288/58889256 [==============================] - 0s 0us/step\n"
          ],
          "name": "stdout"
        }
      ]
    },
    {
      "cell_type": "code",
      "metadata": {
        "id": "gp6LLFHvGlOW"
      },
      "source": [
        "for layer in vgg.layers:\r\n",
        "  layer.trainable = False"
      ],
      "execution_count": null,
      "outputs": []
    },
    {
      "cell_type": "code",
      "metadata": {
        "id": "wphol0QTHX9r"
      },
      "source": [
        "from keras.layers.convolutional import Conv2D, MaxPooling2D\r\n",
        "from keras.models import Sequential\r\n",
        "from keras.layers import Dense, Activation, Flatten\r\n",
        "import tensorflow.keras as keras\r\n",
        "\r\n",
        "x = Flatten()(vgg.output)\r\n",
        "prediction = Dense(120,activation='softmax')(x)\r\n",
        "model = keras.Model(inputs = vgg.input, outputs = prediction)"
      ],
      "execution_count": null,
      "outputs": []
    },
    {
      "cell_type": "code",
      "metadata": {
        "id": "HCc3v9lBIhXf"
      },
      "source": [
        "model.compile(optimizer='rmsprop', loss='categorical_crossentropy',metrics=['accuracy'])"
      ],
      "execution_count": null,
      "outputs": []
    },
    {
      "cell_type": "code",
      "metadata": {
        "id": "1rP-hb1aItEs"
      },
      "source": [
        "from keras.applications.imagenet_utils import preprocess_input\r\n",
        "from keras.preprocessing.image import ImageDataGenerator\r\n",
        "gen = ImageDataGenerator(rotation_range=20, width_shift_range=0.1, height_shift_range=0.1, shear_range=0.1, zoom_range=0.2, horizontal_flip=True, vertical_flip = True, preprocessing_function=preprocess_input)"
      ],
      "execution_count": null,
      "outputs": []
    },
    {
      "cell_type": "code",
      "metadata": {
        "colab": {
          "base_uri": "https://localhost:8080/"
        },
        "id": "5L29-mBIJMul",
        "outputId": "72b2a393-d90e-4aae-ed54-a23eb7b22aa6"
      },
      "source": [
        "batch_size=32\r\n",
        "train_generator = gen.flow_from_directory(\r\n",
        "    directory=\"/content/drive/My Drive/Dog_Breed_Identification/train_full/breed/\",\r\n",
        "    target_size = (224, 224),\r\n",
        "    shuffle = True,\r\n",
        "    batch_size=batch_size,\r\n",
        ")\r\n",
        "batch_size=32\r\n",
        "valid_generator = gen.flow_from_directory(\r\n",
        "    directory=\"/content/drive/My Drive/Dog_Breed_Identification/valid_sorted/breed/\",\r\n",
        "    target_size = (224, 224),\r\n",
        "    shuffle = True,\r\n",
        "    batch_size=batch_size,\r\n",
        ")"
      ],
      "execution_count": null,
      "outputs": [
        {
          "output_type": "stream",
          "text": [
            "Found 8177 images belonging to 120 classes.\n",
            "Found 2045 images belonging to 120 classes.\n"
          ],
          "name": "stdout"
        }
      ]
    },
    {
      "cell_type": "code",
      "metadata": {
        "colab": {
          "base_uri": "https://localhost:8080/",
          "height": 225
        },
        "id": "KS0hiuVDSWvJ",
        "outputId": "a14c539b-7673-4b69-ce92-8e7f90f7c8ec"
      },
      "source": [
        "import torch\r\n",
        "use_cuda = torch.cuda.is_available()\r\n",
        "print(use_cuda)\r\n",
        "\r\n",
        "if use_cuda:\r\n",
        "    model = model.cuda()"
      ],
      "execution_count": null,
      "outputs": [
        {
          "output_type": "stream",
          "text": [
            "True\n"
          ],
          "name": "stdout"
        },
        {
          "output_type": "error",
          "ename": "AttributeError",
          "evalue": "ignored",
          "traceback": [
            "\u001b[0;31m---------------------------------------------------------------------------\u001b[0m",
            "\u001b[0;31mAttributeError\u001b[0m                            Traceback (most recent call last)",
            "\u001b[0;32m<ipython-input-17-980692985cac>\u001b[0m in \u001b[0;36m<module>\u001b[0;34m()\u001b[0m\n\u001b[1;32m      4\u001b[0m \u001b[0;34m\u001b[0m\u001b[0m\n\u001b[1;32m      5\u001b[0m \u001b[0;32mif\u001b[0m \u001b[0muse_cuda\u001b[0m\u001b[0;34m:\u001b[0m\u001b[0;34m\u001b[0m\u001b[0;34m\u001b[0m\u001b[0m\n\u001b[0;32m----> 6\u001b[0;31m     \u001b[0mmodel\u001b[0m \u001b[0;34m=\u001b[0m \u001b[0mmodel\u001b[0m\u001b[0;34m.\u001b[0m\u001b[0mcuda\u001b[0m\u001b[0;34m(\u001b[0m\u001b[0;34m)\u001b[0m\u001b[0;34m\u001b[0m\u001b[0;34m\u001b[0m\u001b[0m\n\u001b[0m",
            "\u001b[0;31mAttributeError\u001b[0m: 'Functional' object has no attribute 'cuda'"
          ]
        }
      ]
    },
    {
      "cell_type": "code",
      "metadata": {
        "colab": {
          "base_uri": "https://localhost:8080/"
        },
        "id": "CDcBfWxoKPRq",
        "outputId": "c2a2149d-8a6a-4c49-94a1-e27e516d0b28"
      },
      "source": [
        "import glob\r\n",
        "\r\n",
        "epochs = 3\r\n",
        "\r\n",
        "train_path = \"/content/drive/My Drive/Dog_Breed_Identification/train_full/breed/\"\r\n",
        "valid_path = \"/content/drive/My Drive/Dog_Breed_Identification/valid_sorted/breed/\"\r\n",
        "image_files = glob.glob(train_path + '/*/*.jpg')\r\n",
        "valid_image_files = glob.glob(valid_path + '/*/*.jpg')\r\n",
        "\r\n",
        "r = model.fit_generator(\r\n",
        "    train_generator,\r\n",
        "    validation_data = valid_generator,\r\n",
        "    epochs = epochs,\r\n",
        "    steps_per_epoch = len(image_files) // batch_size,\r\n",
        "    validation_steps = len(valid_image_files) // batch_size,\r\n",
        ")"
      ],
      "execution_count": null,
      "outputs": [
        {
          "output_type": "stream",
          "text": [
            "/usr/local/lib/python3.7/dist-packages/tensorflow/python/keras/engine/training.py:1844: UserWarning: `Model.fit_generator` is deprecated and will be removed in a future version. Please use `Model.fit`, which supports generators.\n",
            "  warnings.warn('`Model.fit_generator` is deprecated and '\n"
          ],
          "name": "stderr"
        },
        {
          "output_type": "stream",
          "text": [
            "Epoch 1/3\n",
            "255/255 [==============================] - 3405s 13s/step - loss: 58.6244 - accuracy: 0.2194 - val_loss: 59.7108 - val_accuracy: 0.2465\n",
            "Epoch 2/3\n",
            "255/255 [==============================] - 144s 564ms/step - loss: 49.1986 - accuracy: 0.3576 - val_loss: 59.2520 - val_accuracy: 0.2927\n",
            "Epoch 3/3\n",
            "255/255 [==============================] - 144s 566ms/step - loss: 44.6957 - accuracy: 0.4205 - val_loss: 63.2034 - val_accuracy: 0.3294\n"
          ],
          "name": "stdout"
        }
      ]
    },
    {
      "cell_type": "code",
      "metadata": {
        "colab": {
          "base_uri": "https://localhost:8080/"
        },
        "id": "tXX7rrf3PYg-",
        "outputId": "00a32cad-a99d-48cc-c6e2-addf933eba64"
      },
      "source": [
        "STEP_SIZE_TEST = valid_generator.n//valid_generator.batch_size\r\n",
        "valid_generator.reset()\r\n",
        "pred = model.predict_generator(valid_generator, steps = STEP_SIZE_TEST, verbose=1)\r\n",
        "\r\n",
        "import numpy as np\r\n",
        "\r\n",
        "predicted_class_indices = np.argmax(pred,axis=1)"
      ],
      "execution_count": null,
      "outputs": [
        {
          "output_type": "stream",
          "text": [
            "/usr/local/lib/python3.7/dist-packages/tensorflow/python/keras/engine/training.py:1905: UserWarning: `Model.predict_generator` is deprecated and will be removed in a future version. Please use `Model.predict`, which supports generators.\n",
            "  warnings.warn('`Model.predict_generator` is deprecated and '\n"
          ],
          "name": "stderr"
        },
        {
          "output_type": "stream",
          "text": [
            "63/63 [==============================] - 29s 456ms/step\n"
          ],
          "name": "stdout"
        }
      ]
    },
    {
      "cell_type": "code",
      "metadata": {
        "colab": {
          "base_uri": "https://localhost:8080/",
          "height": 513
        },
        "id": "VKH8N8YSKy1d",
        "outputId": "59cf5dbb-f99a-4707-cbeb-1fe4ad25987c"
      },
      "source": [
        "plt.plot(r.history['loss'], label ='train loss')\r\n",
        "plt.plot(r.history['val_loss'], label ='val loss')\r\n",
        "plt.legend()\r\n",
        "plt.show()\r\n",
        "\r\n",
        "plt.plot(r.history['accuracy'], label ='train acc')\r\n",
        "plt.plot(r.history['val_accuracy'], label ='val acc')\r\n",
        "plt.legend()\r\n",
        "plt.show()"
      ],
      "execution_count": null,
      "outputs": [
        {
          "output_type": "display_data",
          "data": {
            "image/png": "[encoded data removed]",
            "text/plain": [
              "<Figure size 432x288 with 1 Axes>"
            ]
          },
          "metadata": {
            "tags": [],
            "needs_background": "light"
          }
        },
        {
          "output_type": "display_data",
          "data": {
            "image/png": "[encoded data removed]",
            "text/plain": [
              "<Figure size 432x288 with 1 Axes>"
            ]
          },
          "metadata": {
            "tags": [],
            "needs_background": "light"
          }
        }
      ]
    },
    {
      "cell_type": "code",
      "metadata": {
        "id": "YBx4fkAqiO5r",
        "colab": {
          "base_uri": "https://localhost:8080/"
        },
        "outputId": "2a046007-03cc-4cd7-b21e-97d5b353cd11"
      },
      "source": [
        "import glob\r\n",
        "\r\n",
        "epochs = 20\r\n",
        "\r\n",
        "train_path = \"/content/drive/My Drive/Dog_Breed_Identification/train_full/breed/\"\r\n",
        "valid_path = \"/content/drive/My Drive/Dog_Breed_Identification/valid_sorted/breed/\"\r\n",
        "image_files = glob.glob(train_path + '/*/*.jpg')\r\n",
        "valid_image_files = glob.glob(valid_path + '/*/*.jpg')\r\n",
        "\r\n",
        "r = model.fit_generator(\r\n",
        "    train_generator,\r\n",
        "    validation_data = valid_generator,\r\n",
        "    epochs = epochs,\r\n",
        "    steps_per_epoch = len(image_files) // batch_size,\r\n",
        "    validation_steps = len(valid_image_files) // batch_size,\r\n",
        ")"
      ],
      "execution_count": null,
      "outputs": [
        {
          "output_type": "stream",
          "text": [
            "/usr/local/lib/python3.7/dist-packages/tensorflow/python/keras/engine/training.py:1844: UserWarning: `Model.fit_generator` is deprecated and will be removed in a future version. Please use `Model.fit`, which supports generators.\n",
            "  warnings.warn('`Model.fit_generator` is deprecated and '\n"
          ],
          "name": "stderr"
        },
        {
          "output_type": "stream",
          "text": [
            "Epoch 1/20\n",
            "255/255 [==============================] - 145s 567ms/step - loss: 40.8272 - accuracy: 0.4814 - val_loss: 66.4867 - val_accuracy: 0.3328\n",
            "Epoch 2/20\n",
            "255/255 [==============================] - 144s 565ms/step - loss: 37.9905 - accuracy: 0.5188 - val_loss: 68.6811 - val_accuracy: 0.3616\n",
            "Epoch 3/20\n",
            "255/255 [==============================] - 144s 566ms/step - loss: 35.6985 - accuracy: 0.5486 - val_loss: 67.0959 - val_accuracy: 0.3646\n",
            "Epoch 4/20\n",
            "255/255 [==============================] - 144s 566ms/step - loss: 33.9662 - accuracy: 0.5714 - val_loss: 70.5210 - val_accuracy: 0.3795\n",
            "Epoch 5/20\n",
            "255/255 [==============================] - 144s 567ms/step - loss: 31.3772 - accuracy: 0.5978 - val_loss: 72.1156 - val_accuracy: 0.3814\n",
            "Epoch 6/20\n",
            "255/255 [==============================] - 144s 565ms/step - loss: 29.6299 - accuracy: 0.6252 - val_loss: 73.6525 - val_accuracy: 0.3929\n",
            "Epoch 7/20\n",
            "255/255 [==============================] - 144s 566ms/step - loss: 29.5608 - accuracy: 0.6336 - val_loss: 79.0506 - val_accuracy: 0.3676\n",
            "Epoch 8/20\n",
            "255/255 [==============================] - 144s 566ms/step - loss: 27.8337 - accuracy: 0.6437 - val_loss: 77.7036 - val_accuracy: 0.3795\n",
            "Epoch 9/20\n",
            "255/255 [==============================] - 145s 567ms/step - loss: 26.3814 - accuracy: 0.6637 - val_loss: 75.1791 - val_accuracy: 0.4043\n",
            "Epoch 10/20\n",
            "255/255 [==============================] - 144s 567ms/step - loss: 25.1819 - accuracy: 0.6804 - val_loss: 79.3671 - val_accuracy: 0.3889\n",
            "Epoch 11/20\n",
            "255/255 [==============================] - 145s 567ms/step - loss: 24.4905 - accuracy: 0.6883 - val_loss: 80.3984 - val_accuracy: 0.3943\n",
            "Epoch 12/20\n",
            "255/255 [==============================] - 145s 568ms/step - loss: 22.8106 - accuracy: 0.7018 - val_loss: 86.5377 - val_accuracy: 0.4018\n",
            "Epoch 13/20\n",
            "255/255 [==============================] - 145s 568ms/step - loss: 23.4488 - accuracy: 0.7036 - val_loss: 84.4353 - val_accuracy: 0.3973\n",
            "Epoch 14/20\n",
            "255/255 [==============================] - 145s 567ms/step - loss: 21.8509 - accuracy: 0.7141 - val_loss: 85.8552 - val_accuracy: 0.3874\n",
            "Epoch 15/20\n",
            "255/255 [==============================] - 145s 570ms/step - loss: 21.7872 - accuracy: 0.7229 - val_loss: 84.9129 - val_accuracy: 0.4087\n",
            "Epoch 16/20\n",
            "255/255 [==============================] - 145s 568ms/step - loss: 21.1556 - accuracy: 0.7354 - val_loss: 88.4507 - val_accuracy: 0.4082\n",
            "Epoch 17/20\n",
            "255/255 [==============================] - 145s 568ms/step - loss: 20.8360 - accuracy: 0.7332 - val_loss: 88.5837 - val_accuracy: 0.3953\n",
            "Epoch 18/20\n",
            "255/255 [==============================] - 145s 567ms/step - loss: 19.9781 - accuracy: 0.7443 - val_loss: 91.8074 - val_accuracy: 0.3909\n",
            "Epoch 19/20\n",
            "255/255 [==============================] - 145s 570ms/step - loss: 18.3967 - accuracy: 0.7547 - val_loss: 88.3341 - val_accuracy: 0.4162\n",
            "Epoch 20/20\n",
            "255/255 [==============================] - 145s 571ms/step - loss: 18.2832 - accuracy: 0.7580 - val_loss: 88.3957 - val_accuracy: 0.4177\n"
          ],
          "name": "stdout"
        }
      ]
    },
    {
      "cell_type": "code",
      "metadata": {
        "colab": {
          "base_uri": "https://localhost:8080/"
        },
        "id": "Tc6MCbiKtVoW",
        "outputId": "e891f34f-0e09-4e02-806e-3051f518b458"
      },
      "source": [
        "model.summary()"
      ],
      "execution_count": null,
      "outputs": [
        {
          "output_type": "stream",
          "text": [
            "Model: \"model\"\n",
            "_________________________________________________________________\n",
            "Layer (type)                 Output Shape              Param #   \n",
            "=================================================================\n",
            "input_1 (InputLayer)         [(None, 224, 224, 3)]     0         \n",
            "_________________________________________________________________\n",
            "block1_conv1 (Conv2D)        (None, 224, 224, 64)      1792      \n",
            "_________________________________________________________________\n",
            "block1_conv2 (Conv2D)        (None, 224, 224, 64)      36928     \n",
            "_________________________________________________________________\n",
            "block1_pool (MaxPooling2D)   (None, 112, 112, 64)      0         \n",
            "_________________________________________________________________\n",
            "block2_conv1 (Conv2D)        (None, 112, 112, 128)     73856     \n",
            "_________________________________________________________________\n",
            "block2_conv2 (Conv2D)        (None, 112, 112, 128)     147584    \n",
            "_________________________________________________________________\n",
            "block2_pool (MaxPooling2D)   (None, 56, 56, 128)       0         \n",
            "_________________________________________________________________\n",
            "block3_conv1 (Conv2D)        (None, 56, 56, 256)       295168    \n",
            "_________________________________________________________________\n",
            "block3_conv2 (Conv2D)        (None, 56, 56, 256)       590080    \n",
            "_________________________________________________________________\n",
            "block3_conv3 (Conv2D)        (None, 56, 56, 256)       590080    \n",
            "_________________________________________________________________\n",
            "block3_pool (MaxPooling2D)   (None, 28, 28, 256)       0         \n",
            "_________________________________________________________________\n",
            "block4_conv1 (Conv2D)        (None, 28, 28, 512)       1180160   \n",
            "_________________________________________________________________\n",
            "block4_conv2 (Conv2D)        (None, 28, 28, 512)       2359808   \n",
            "_________________________________________________________________\n",
            "block4_conv3 (Conv2D)        (None, 28, 28, 512)       2359808   \n",
            "_________________________________________________________________\n",
            "block4_pool (MaxPooling2D)   (None, 14, 14, 512)       0         \n",
            "_________________________________________________________________\n",
            "block5_conv1 (Conv2D)        (None, 14, 14, 512)       2359808   \n",
            "_________________________________________________________________\n",
            "block5_conv2 (Conv2D)        (None, 14, 14, 512)       2359808   \n",
            "_________________________________________________________________\n",
            "block5_conv3 (Conv2D)        (None, 14, 14, 512)       2359808   \n",
            "_________________________________________________________________\n",
            "block5_pool (MaxPooling2D)   (None, 7, 7, 512)         0         \n",
            "_________________________________________________________________\n",
            "flatten (Flatten)            (None, 25088)             0         \n",
            "_________________________________________________________________\n",
            "dense (Dense)                (None, 120)               3010680   \n",
            "=================================================================\n",
            "Total params: 17,725,368\n",
            "Trainable params: 3,010,680\n",
            "Non-trainable params: 14,714,688\n",
            "_________________________________________________________________\n"
          ],
          "name": "stdout"
        }
      ]
    },
    {
      "cell_type": "code",
      "metadata": {
        "colab": {
          "base_uri": "https://localhost:8080/",
          "height": 513
        },
        "id": "RCzAD4Z7kp7h",
        "outputId": "0ca75d9b-8f76-470f-9c7d-9146a33ccb5c"
      },
      "source": [
        "plt.plot(r.history['loss'], label ='train loss')\r\n",
        "plt.plot(r.history['val_loss'], label ='val loss')\r\n",
        "plt.legend()\r\n",
        "plt.show()\r\n",
        "\r\n",
        "plt.plot(r.history['accuracy'], label ='train acc')\r\n",
        "plt.plot(r.history['val_accuracy'], label ='val acc')\r\n",
        "plt.legend()\r\n",
        "plt.show()"
      ],
      "execution_count": null,
      "outputs": [
        {
          "output_type": "display_data",
          "data": {
            "image/png": "[encoded data removed]",
            "text/plain": [
              "<Figure size 432x288 with 1 Axes>"
            ]
          },
          "metadata": {
            "tags": [],
            "needs_background": "light"
          }
        },
        {
          "output_type": "display_data",
          "data": {
            "image/png": "[encoded data removed]",
            "text/plain": [
              "<Figure size 432x288 with 1 Axes>"
            ]
          },
          "metadata": {
            "tags": [],
            "needs_background": "light"
          }
        }
      ]
    },
    {
      "cell_type": "code",
      "metadata": {
        "colab": {
          "base_uri": "https://localhost:8080/"
        },
        "id": "0T3QK7u-3Pxi",
        "outputId": "30de602a-0c17-420c-8f4f-8e2ced0cab10"
      },
      "source": [
        "import pandas as pd\r\n",
        "\r\n",
        "labels_df = pd.read_csv(\"drive/My Drive/Dog_Breed_Identification/labels.csv\")\r\n",
        "breed = labels_df[\"breed\"].unique()\r\n",
        "#print(breed)\r\n",
        "class_names = [item.replace(\"_\", \" \")for item in breed]\r\n",
        "print(class_names)"
      ],
      "execution_count": null,
      "outputs": [
        {
          "output_type": "stream",
          "text": [
            "['boston bull', 'dingo', 'pekinese', 'bluetick', 'golden retriever', 'bedlington terrier', 'borzoi', 'basenji', 'scottish deerhound', 'shetland sheepdog', 'walker hound', 'maltese dog', 'norfolk terrier', 'african hunting dog', 'wire-haired fox terrier', 'redbone', 'lakeland terrier', 'boxer', 'doberman', 'otterhound', 'standard schnauzer', 'irish water spaniel', 'black-and-tan coonhound', 'cairn', 'affenpinscher', 'labrador retriever', 'ibizan hound', 'english setter', 'weimaraner', 'giant schnauzer', 'groenendael', 'dhole', 'toy poodle', 'border terrier', 'tibetan terrier', 'norwegian elkhound', 'shih-tzu', 'irish terrier', 'kuvasz', 'german shepherd', 'greater swiss mountain dog', 'basset', 'australian terrier', 'schipperke', 'rhodesian ridgeback', 'irish setter', 'appenzeller', 'bloodhound', 'samoyed', 'miniature schnauzer', 'brittany spaniel', 'kelpie', 'papillon', 'border collie', 'entlebucher', 'collie', 'malamute', 'welsh springer spaniel', 'chihuahua', 'saluki', 'pug', 'malinois', 'komondor', 'airedale', 'leonberg', 'mexican hairless', 'bull mastiff', 'bernese mountain dog', 'american staffordshire terrier', 'lhasa', 'cardigan', 'italian greyhound', 'clumber', 'scotch terrier', 'afghan hound', 'old english sheepdog', 'saint bernard', 'miniature pinscher', 'eskimo dog', 'irish wolfhound', 'brabancon griffon', 'toy terrier', 'chow', 'flat-coated retriever', 'norwich terrier', 'soft-coated wheaten terrier', 'staffordshire bullterrier', 'english foxhound', 'gordon setter', 'siberian husky', 'newfoundland', 'briard', 'chesapeake bay retriever', 'dandie dinmont', 'great pyrenees', 'beagle', 'vizsla', 'west highland white terrier', 'kerry blue terrier', 'whippet', 'sealyham terrier', 'standard poodle', 'keeshond', 'japanese spaniel', 'miniature poodle', 'pomeranian', 'curly-coated retriever', 'yorkshire terrier', 'pembroke', 'great dane', 'blenheim spaniel', 'silky terrier', 'sussex spaniel', 'german short-haired pointer', 'french bulldog', 'bouvier des flandres', 'tibetan mastiff', 'english springer', 'cocker spaniel', 'rottweiler']\n"
          ],
          "name": "stdout"
        }
      ]
    },
    {
      "cell_type": "code",
      "metadata": {
        "id": "FWPH9qxk3biC"
      },
      "source": [
        "def run_app(img_path):\r\n",
        "  img = keras.preprocessing.image.load_img(img_path, target_size=(224,224))\r\n",
        "  img_array = keras.preprocessing.image.img_to_array(img)\r\n",
        "  img_array = tf.expand_dims(img_array, 0)\r\n",
        "\r\n",
        "  predictions = model.predict(img_array)\r\n",
        "  score = tf.nn.softmax(predictions[0])\r\n",
        "\r\n",
        "  print(class_names[np.argmax(score)])"
      ],
      "execution_count": null,
      "outputs": []
    },
    {
      "cell_type": "code",
      "metadata": {
        "colab": {
          "base_uri": "https://localhost:8080/"
        },
        "id": "MsWrStQi4Kfn",
        "outputId": "af08f657-5a08-4d3e-b20d-715b6f388ad0"
      },
      "source": [
        "run_app('/content/drive/My Drive/Dog_Breed_Identification/cairn.jpg')"
      ],
      "execution_count": null,
      "outputs": [
        {
          "output_type": "stream",
          "text": [
            "boston bull\n"
          ],
          "name": "stdout"
        }
      ]
    },
    {
      "cell_type": "code",
      "metadata": {
        "id": "JuFpmAljY20h",
        "colab": {
          "base_uri": "https://localhost:8080/"
        },
        "outputId": "17237cd1-1250-494f-93b9-8f138be005d4"
      },
      "source": [
        "from keras.models import model_from_json\r\n",
        "model_json = model.to_json()\r\n",
        "with open(\"model.json\", \"w\") as json_file:\r\n",
        "    json_file.write(model_json)\r\n",
        "# serialize weights to HDF5\r\n",
        "model.save_weights(\"/content/drive/My Drive/Dog_Breed_Identification/model.h5\")\r\n",
        "print(\"Saved model to disk\")"
      ],
      "execution_count": null,
      "outputs": [
        {
          "output_type": "stream",
          "text": [
            "Saved model to disk\n"
          ],
          "name": "stdout"
        }
      ]
    },
    {
      "cell_type": "code",
      "metadata": {
        "id": "BonYeTVrdEPy"
      },
      "source": [
        "# load json and create model\r\n",
        "json_file = open('model.json', 'r')\r\n",
        "loaded_model_json = json_file.read()\r\n",
        "json_file.close()\r\n",
        "loaded_model = model_from_json(loaded_model_json)\r\n",
        "# load weights into new model\r\n",
        "loaded_model.load_weights(\"model.h5\")\r\n",
        "print(\"Loaded model from disk\")\r\n",
        " \r\n",
        "# evaluate loaded model on test data\r\n",
        "loaded_model.compile(loss='binary_crossentropy', optimizer='rmsprop', metrics=['accuracy'])"
      ],
      "execution_count": null,
      "outputs": []
    }
  ]
}