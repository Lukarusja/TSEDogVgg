{
  "nbformat": 4,
  "nbformat_minor": 0,
  "metadata": {
    "colab": {
      "name": "izmoModelXception.ipynb",
      "provenance": [],
      "authorship_tag": "ABX9TyPBtmvcMnrt4d7JnI038Hig",
      "include_colab_link": true
    },
    "kernelspec": {
      "name": "python3",
      "display_name": "Python 3"
    }
  },
  "cells": [
    {
      "cell_type": "markdown",
      "metadata": {
        "id": "view-in-github",
        "colab_type": "text"
      },
      "source": [
        "<a href=\"https://colab.research.google.com/github/Lukarusja/TSEDogVgg/blob/main/LoadingModelXceptionIzmo.ipynb\" target=\"_parent\"><img src=\"https://colab.research.google.com/assets/colab-badge.svg\" alt=\"Open In Colab\"/></a>"
      ]
    },
    {
      "cell_type": "code",
      "metadata": {
        "colab": {
          "base_uri": "https://localhost:8080/"
        },
        "id": "P2VU_5yKzU4j",
        "outputId": "247f28a1-0a64-4296-f862-cb9c42b3e7cc"
      },
      "source": [
        "from google.colab import drive\r\n",
        "drive.mount('/content/drive')"
      ],
      "execution_count": 5,
      "outputs": [
        {
          "output_type": "stream",
          "text": [
            "Mounted at /content/drive\n"
          ],
          "name": "stdout"
        }
      ]
    },
    {
      "cell_type": "code",
      "metadata": {
        "colab": {
          "base_uri": "https://localhost:8080/"
        },
        "id": "_S9I_pJazmq1",
        "outputId": "9e127e13-04d7-44f5-8a0e-613bc86fc01f"
      },
      "source": [
        "import tensorflow as tf\r\n",
        "import keras\r\n",
        "# load json and create model\r\n",
        "json_file = open('/content/drive/My Drive/Dog_Breed_Identification/model.json', 'r')\r\n",
        "loaded_model_json = json_file.read()\r\n",
        "json_file.close()\r\n",
        "loaded_model = tf.keras.models.model_from_json(loaded_model_json)\r\n",
        "# load weights into new model\r\n",
        "loaded_model.load_weights(\"/content/drive/My Drive/Dog_Breed_Identification/modelXception_1703_po_polnocy.h5\")\r\n",
        "print(\"Loaded model from disk\")\r\n",
        " \r\n",
        "# evaluate loaded model on test data\r\n",
        "loaded_model.compile(loss='binary_crossentropy', optimizer='rmsprop', metrics=['accuracy'])"
      ],
      "execution_count": 13,
      "outputs": [
        {
          "output_type": "stream",
          "text": [
            "Loaded model from disk\n"
          ],
          "name": "stdout"
        }
      ]
    },
    {
      "cell_type": "code",
      "metadata": {
        "id": "pirGR0MRyKP6"
      },
      "source": [
        "#all 120 breeds\r\n",
        "class_names = ['boston bull', 'dingo', 'pekinese', 'bluetick', 'golden retriever', 'bedlington terrier', 'borzoi', 'basenji', 'scottish deerhound', 'shetland sheepdog', 'walker hound', 'maltese dog', 'norfolk terrier', 'african hunting dog', 'wire-haired fox terrier', 'redbone', 'lakeland terrier', 'boxer', 'doberman', 'otterhound', 'standard schnauzer', 'irish water spaniel', 'black-and-tan coonhound', 'cairn', 'affenpinscher', 'labrador retriever', 'ibizan hound', 'english setter', 'weimaraner', 'giant schnauzer', 'groenendael', 'dhole', 'toy poodle', 'border terrier', 'tibetan terrier', 'norwegian elkhound', 'shih-tzu', 'irish terrier', 'kuvasz', 'german shepherd', 'greater swiss mountain dog', 'basset', 'australian terrier', 'schipperke', 'rhodesian ridgeback', 'irish setter', 'appenzeller', 'bloodhound', 'samoyed', 'miniature schnauzer', 'brittany spaniel', 'kelpie', 'papillon', 'border collie', 'entlebucher', 'collie', 'malamute', 'welsh springer spaniel', 'chihuahua', 'saluki', 'pug', 'malinois', 'komondor', 'airedale', 'leonberg', 'mexican hairless', 'bull mastiff', 'bernese mountain dog', 'american staffordshire terrier', 'lhasa', 'cardigan', 'italian greyhound', 'clumber', 'scotch terrier', 'afghan hound', 'old english sheepdog', 'saint bernard', 'miniature pinscher', 'eskimo dog', 'irish wolfhound', 'brabancon griffon', 'toy terrier', 'chow', 'flat-coated retriever', 'norwich terrier', 'soft-coated wheaten terrier', 'staffordshire bullterrier', 'english foxhound', 'gordon setter', 'siberian husky', 'newfoundland', 'briard', 'chesapeake bay retriever', 'dandie dinmont', 'great pyrenees', 'beagle', 'vizsla', 'west highland white terrier', 'kerry blue terrier', 'whippet', 'sealyham terrier', 'standard poodle', 'keeshond', 'japanese spaniel', 'miniature poodle', 'pomeranian', 'curly-coated retriever', 'yorkshire terrier', 'pembroke', 'great dane', 'blenheim spaniel', 'silky terrier', 'sussex spaniel', 'german short-haired pointer', 'french bulldog', 'bouvier des flandres', 'tibetan mastiff', 'english springer', 'cocker spaniel', 'rottweiler']"
      ],
      "execution_count": 9,
      "outputs": []
    },
    {
      "cell_type": "code",
      "metadata": {
        "colab": {
          "base_uri": "https://localhost:8080/"
        },
        "id": "IO8jKfCAx8MX",
        "outputId": "f775a493-6e5c-4a03-ec70-53695d2e4649"
      },
      "source": [
        "print(class_names)"
      ],
      "execution_count": 10,
      "outputs": [
        {
          "output_type": "stream",
          "text": [
            "['boston bull', 'dingo', 'pekinese', 'bluetick', 'golden retriever', 'bedlington terrier', 'borzoi', 'basenji', 'scottish deerhound', 'shetland sheepdog', 'walker hound', 'maltese dog', 'norfolk terrier', 'african hunting dog', 'wire-haired fox terrier', 'redbone', 'lakeland terrier', 'boxer', 'doberman', 'otterhound', 'standard schnauzer', 'irish water spaniel', 'black-and-tan coonhound', 'cairn', 'affenpinscher', 'labrador retriever', 'ibizan hound', 'english setter', 'weimaraner', 'giant schnauzer', 'groenendael', 'dhole', 'toy poodle', 'border terrier', 'tibetan terrier', 'norwegian elkhound', 'shih-tzu', 'irish terrier', 'kuvasz', 'german shepherd', 'greater swiss mountain dog', 'basset', 'australian terrier', 'schipperke', 'rhodesian ridgeback', 'irish setter', 'appenzeller', 'bloodhound', 'samoyed', 'miniature schnauzer', 'brittany spaniel', 'kelpie', 'papillon', 'border collie', 'entlebucher', 'collie', 'malamute', 'welsh springer spaniel', 'chihuahua', 'saluki', 'pug', 'malinois', 'komondor', 'airedale', 'leonberg', 'mexican hairless', 'bull mastiff', 'bernese mountain dog', 'american staffordshire terrier', 'lhasa', 'cardigan', 'italian greyhound', 'clumber', 'scotch terrier', 'afghan hound', 'old english sheepdog', 'saint bernard', 'miniature pinscher', 'eskimo dog', 'irish wolfhound', 'brabancon griffon', 'toy terrier', 'chow', 'flat-coated retriever', 'norwich terrier', 'soft-coated wheaten terrier', 'staffordshire bullterrier', 'english foxhound', 'gordon setter', 'siberian husky', 'newfoundland', 'briard', 'chesapeake bay retriever', 'dandie dinmont', 'great pyrenees', 'beagle', 'vizsla', 'west highland white terrier', 'kerry blue terrier', 'whippet', 'sealyham terrier', 'standard poodle', 'keeshond', 'japanese spaniel', 'miniature poodle', 'pomeranian', 'curly-coated retriever', 'yorkshire terrier', 'pembroke', 'great dane', 'blenheim spaniel', 'silky terrier', 'sussex spaniel', 'german short-haired pointer', 'french bulldog', 'bouvier des flandres', 'tibetan mastiff', 'english springer', 'cocker spaniel', 'rottweiler']\n"
          ],
          "name": "stdout"
        }
      ]
    },
    {
      "cell_type": "code",
      "metadata": {
        "id": "D4VWd5Hax6Ql"
      },
      "source": [
        "import numpy as np\r\n",
        "\r\n",
        "def run_app(img_path):\r\n",
        "  img = keras.preprocessing.image.load_img(img_path, target_size=(299,299))\r\n",
        "  img_array = keras.preprocessing.image.img_to_array(img)\r\n",
        "  img_array = tf.expand_dims(img_array, 0)\r\n",
        "\r\n",
        "  predictions = loaded_model.predict(img_array)\r\n",
        "  score = tf.nn.softmax(predictions[0])\r\n",
        "\r\n",
        "  print(class_names[np.argmax(score)])"
      ],
      "execution_count": 16,
      "outputs": []
    },
    {
      "cell_type": "code",
      "metadata": {
        "colab": {
          "base_uri": "https://localhost:8080/"
        },
        "id": "OLl1YAAfQOXD",
        "outputId": "7fce1300-9b72-4482-f7cd-25960cc58184"
      },
      "source": [
        "run_app('/content/drive/My Drive/Dog_Breed_Identification/briard.jpg')"
      ],
      "execution_count": 18,
      "outputs": [
        {
          "output_type": "stream",
          "text": [
            "rhodesian ridgeback\n"
          ],
          "name": "stdout"
        }
      ]
    }
  ]
}